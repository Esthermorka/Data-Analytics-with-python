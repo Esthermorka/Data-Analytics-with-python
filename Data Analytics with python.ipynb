{
 "cells": [
  {
   "cell_type": "code",
   "execution_count": 1,
   "id": "7386d4d1",
   "metadata": {},
   "outputs": [],
   "source": [
    "import pandas as pd \n",
    "import numpy as np\n",
    "import seaborn as sb\n",
    "import matplotlib.pyplot as plt"
   ]
  },
  {
   "cell_type": "code",
   "execution_count": 3,
   "id": "84aa477f",
   "metadata": {},
   "outputs": [],
   "source": [
    "credit_data = pd.read_csv('CleanCreditScoring.csv')"
   ]
  },
  {
   "cell_type": "markdown",
   "id": "251c3083",
   "metadata": {},
   "source": [
    "## Data Exploration"
   ]
  },
  {
   "cell_type": "code",
   "execution_count": 4,
   "id": "a035469c",
   "metadata": {},
   "outputs": [
    {
     "data": {
      "text/html": [
       "<div>\n",
       "<style scoped>\n",
       "    .dataframe tbody tr th:only-of-type {\n",
       "        vertical-align: middle;\n",
       "    }\n",
       "\n",
       "    .dataframe tbody tr th {\n",
       "        vertical-align: top;\n",
       "    }\n",
       "\n",
       "    .dataframe thead th {\n",
       "        text-align: right;\n",
       "    }\n",
       "</style>\n",
       "<table border=\"1\" class=\"dataframe\">\n",
       "  <thead>\n",
       "    <tr style=\"text-align: right;\">\n",
       "      <th></th>\n",
       "      <th>Status</th>\n",
       "      <th>Seniority</th>\n",
       "      <th>Home</th>\n",
       "      <th>Time</th>\n",
       "      <th>Age</th>\n",
       "      <th>Marital</th>\n",
       "      <th>Records</th>\n",
       "      <th>Job</th>\n",
       "      <th>Expenses</th>\n",
       "      <th>Income</th>\n",
       "      <th>...</th>\n",
       "      <th>timeR</th>\n",
       "      <th>ageR</th>\n",
       "      <th>expensesR</th>\n",
       "      <th>incomeR</th>\n",
       "      <th>assetsR</th>\n",
       "      <th>debtR</th>\n",
       "      <th>amountR</th>\n",
       "      <th>priceR</th>\n",
       "      <th>finratR</th>\n",
       "      <th>savingsR</th>\n",
       "    </tr>\n",
       "  </thead>\n",
       "  <tbody>\n",
       "    <tr>\n",
       "      <th>0</th>\n",
       "      <td>good</td>\n",
       "      <td>9</td>\n",
       "      <td>rent</td>\n",
       "      <td>60</td>\n",
       "      <td>30</td>\n",
       "      <td>married</td>\n",
       "      <td>no_rec</td>\n",
       "      <td>freelance</td>\n",
       "      <td>73</td>\n",
       "      <td>129</td>\n",
       "      <td>...</td>\n",
       "      <td>time (48,99]</td>\n",
       "      <td>age (25,30]</td>\n",
       "      <td>exp (60,80]</td>\n",
       "      <td>inc (110,140]</td>\n",
       "      <td>asset (-1,0]</td>\n",
       "      <td>debt (-1,0]</td>\n",
       "      <td>am (600,900]</td>\n",
       "      <td>priz (0,1e+03]</td>\n",
       "      <td>finr (90,100]</td>\n",
       "      <td>sav (4,6]</td>\n",
       "    </tr>\n",
       "    <tr>\n",
       "      <th>1</th>\n",
       "      <td>good</td>\n",
       "      <td>17</td>\n",
       "      <td>rent</td>\n",
       "      <td>60</td>\n",
       "      <td>58</td>\n",
       "      <td>widow</td>\n",
       "      <td>no_rec</td>\n",
       "      <td>fixed</td>\n",
       "      <td>48</td>\n",
       "      <td>131</td>\n",
       "      <td>...</td>\n",
       "      <td>time (48,99]</td>\n",
       "      <td>age (50,99]</td>\n",
       "      <td>exp (40,50]</td>\n",
       "      <td>inc (110,140]</td>\n",
       "      <td>asset (-1,0]</td>\n",
       "      <td>debt (-1,0]</td>\n",
       "      <td>am (900,1.1e+03]</td>\n",
       "      <td>priz (1.5e+03,1.8e+03]</td>\n",
       "      <td>finr (50,70]</td>\n",
       "      <td>sav (4,6]</td>\n",
       "    </tr>\n",
       "    <tr>\n",
       "      <th>2</th>\n",
       "      <td>bad</td>\n",
       "      <td>10</td>\n",
       "      <td>owner</td>\n",
       "      <td>36</td>\n",
       "      <td>46</td>\n",
       "      <td>married</td>\n",
       "      <td>yes_rec</td>\n",
       "      <td>freelance</td>\n",
       "      <td>90</td>\n",
       "      <td>200</td>\n",
       "      <td>...</td>\n",
       "      <td>time (24,36]</td>\n",
       "      <td>age (40,50]</td>\n",
       "      <td>exp (80,1e+04]</td>\n",
       "      <td>inc (190,1e+04]</td>\n",
       "      <td>asset (0,3e+03]</td>\n",
       "      <td>debt (-1,0]</td>\n",
       "      <td>am (1.4e+03,1e+05]</td>\n",
       "      <td>priz (1.8e+03,1e+05]</td>\n",
       "      <td>finr (50,70]</td>\n",
       "      <td>sav (0,2]</td>\n",
       "    </tr>\n",
       "    <tr>\n",
       "      <th>3</th>\n",
       "      <td>good</td>\n",
       "      <td>0</td>\n",
       "      <td>rent</td>\n",
       "      <td>60</td>\n",
       "      <td>24</td>\n",
       "      <td>single</td>\n",
       "      <td>no_rec</td>\n",
       "      <td>fixed</td>\n",
       "      <td>63</td>\n",
       "      <td>182</td>\n",
       "      <td>...</td>\n",
       "      <td>time (48,99]</td>\n",
       "      <td>age (0,25]</td>\n",
       "      <td>exp (60,80]</td>\n",
       "      <td>inc (140,190]</td>\n",
       "      <td>asset (0,3e+03]</td>\n",
       "      <td>debt (-1,0]</td>\n",
       "      <td>am (600,900]</td>\n",
       "      <td>priz (1.3e+03,1.5e+03]</td>\n",
       "      <td>finr (50,70]</td>\n",
       "      <td>sav (6,99]</td>\n",
       "    </tr>\n",
       "    <tr>\n",
       "      <th>4</th>\n",
       "      <td>good</td>\n",
       "      <td>0</td>\n",
       "      <td>rent</td>\n",
       "      <td>36</td>\n",
       "      <td>26</td>\n",
       "      <td>single</td>\n",
       "      <td>no_rec</td>\n",
       "      <td>fixed</td>\n",
       "      <td>46</td>\n",
       "      <td>107</td>\n",
       "      <td>...</td>\n",
       "      <td>time (24,36]</td>\n",
       "      <td>age (25,30]</td>\n",
       "      <td>exp (40,50]</td>\n",
       "      <td>inc (80,110]</td>\n",
       "      <td>asset (-1,0]</td>\n",
       "      <td>debt (-1,0]</td>\n",
       "      <td>am (0,600]</td>\n",
       "      <td>priz (0,1e+03]</td>\n",
       "      <td>finr (0,50]</td>\n",
       "      <td>sav (6,99]</td>\n",
       "    </tr>\n",
       "    <tr>\n",
       "      <th>5</th>\n",
       "      <td>good</td>\n",
       "      <td>1</td>\n",
       "      <td>owner</td>\n",
       "      <td>60</td>\n",
       "      <td>36</td>\n",
       "      <td>married</td>\n",
       "      <td>no_rec</td>\n",
       "      <td>fixed</td>\n",
       "      <td>75</td>\n",
       "      <td>214</td>\n",
       "      <td>...</td>\n",
       "      <td>time (48,99]</td>\n",
       "      <td>age (30,40]</td>\n",
       "      <td>exp (60,80]</td>\n",
       "      <td>inc (190,1e+04]</td>\n",
       "      <td>asset (3e+03,5e+03]</td>\n",
       "      <td>debt (-1,0]</td>\n",
       "      <td>am (600,900]</td>\n",
       "      <td>priz (1.5e+03,1.8e+03]</td>\n",
       "      <td>finr (0,50]</td>\n",
       "      <td>sav (6,99]</td>\n",
       "    </tr>\n",
       "    <tr>\n",
       "      <th>6</th>\n",
       "      <td>good</td>\n",
       "      <td>29</td>\n",
       "      <td>owner</td>\n",
       "      <td>60</td>\n",
       "      <td>44</td>\n",
       "      <td>married</td>\n",
       "      <td>no_rec</td>\n",
       "      <td>fixed</td>\n",
       "      <td>75</td>\n",
       "      <td>125</td>\n",
       "      <td>...</td>\n",
       "      <td>time (48,99]</td>\n",
       "      <td>age (40,50]</td>\n",
       "      <td>exp (60,80]</td>\n",
       "      <td>inc (110,140]</td>\n",
       "      <td>asset (8e+03,1e+06]</td>\n",
       "      <td>debt (-1,0]</td>\n",
       "      <td>am (1.4e+03,1e+05]</td>\n",
       "      <td>priz (1.5e+03,1.8e+03]</td>\n",
       "      <td>finr (80,90]</td>\n",
       "      <td>sav (0,2]</td>\n",
       "    </tr>\n",
       "    <tr>\n",
       "      <th>7</th>\n",
       "      <td>good</td>\n",
       "      <td>9</td>\n",
       "      <td>parents</td>\n",
       "      <td>12</td>\n",
       "      <td>27</td>\n",
       "      <td>single</td>\n",
       "      <td>no_rec</td>\n",
       "      <td>fixed</td>\n",
       "      <td>35</td>\n",
       "      <td>80</td>\n",
       "      <td>...</td>\n",
       "      <td>time (0,12]</td>\n",
       "      <td>age (25,30]</td>\n",
       "      <td>exp (0,40]</td>\n",
       "      <td>inc (0,80]</td>\n",
       "      <td>asset (-1,0]</td>\n",
       "      <td>debt (-1,0]</td>\n",
       "      <td>am (0,600]</td>\n",
       "      <td>priz (1e+03,1.3e+03]</td>\n",
       "      <td>finr (0,50]</td>\n",
       "      <td>sav (2,4]</td>\n",
       "    </tr>\n",
       "    <tr>\n",
       "      <th>8</th>\n",
       "      <td>good</td>\n",
       "      <td>0</td>\n",
       "      <td>owner</td>\n",
       "      <td>60</td>\n",
       "      <td>32</td>\n",
       "      <td>married</td>\n",
       "      <td>no_rec</td>\n",
       "      <td>freelance</td>\n",
       "      <td>90</td>\n",
       "      <td>107</td>\n",
       "      <td>...</td>\n",
       "      <td>time (48,99]</td>\n",
       "      <td>age (30,40]</td>\n",
       "      <td>exp (80,1e+04]</td>\n",
       "      <td>inc (80,110]</td>\n",
       "      <td>asset (8e+03,1e+06]</td>\n",
       "      <td>debt (-1,0]</td>\n",
       "      <td>am (1.1e+03,1.4e+03]</td>\n",
       "      <td>priz (1.8e+03,1e+05]</td>\n",
       "      <td>finr (50,70]</td>\n",
       "      <td>sav (0,2]</td>\n",
       "    </tr>\n",
       "    <tr>\n",
       "      <th>9</th>\n",
       "      <td>bad</td>\n",
       "      <td>0</td>\n",
       "      <td>parents</td>\n",
       "      <td>48</td>\n",
       "      <td>41</td>\n",
       "      <td>married</td>\n",
       "      <td>no_rec</td>\n",
       "      <td>partime</td>\n",
       "      <td>90</td>\n",
       "      <td>80</td>\n",
       "      <td>...</td>\n",
       "      <td>time (36,48]</td>\n",
       "      <td>age (40,50]</td>\n",
       "      <td>exp (80,1e+04]</td>\n",
       "      <td>inc (0,80]</td>\n",
       "      <td>asset (-1,0]</td>\n",
       "      <td>debt (-1,0]</td>\n",
       "      <td>am (1.1e+03,1.4e+03]</td>\n",
       "      <td>priz (1.3e+03,1.5e+03]</td>\n",
       "      <td>finr (80,90]</td>\n",
       "      <td>sav (-99,0]</td>\n",
       "    </tr>\n",
       "  </tbody>\n",
       "</table>\n",
       "<p>10 rows × 27 columns</p>\n",
       "</div>"
      ],
      "text/plain": [
       "  Status  Seniority     Home  Time  Age  Marital  Records        Job  \\\n",
       "0   good          9     rent    60   30  married   no_rec  freelance   \n",
       "1   good         17     rent    60   58    widow   no_rec      fixed   \n",
       "2    bad         10    owner    36   46  married  yes_rec  freelance   \n",
       "3   good          0     rent    60   24   single   no_rec      fixed   \n",
       "4   good          0     rent    36   26   single   no_rec      fixed   \n",
       "5   good          1    owner    60   36  married   no_rec      fixed   \n",
       "6   good         29    owner    60   44  married   no_rec      fixed   \n",
       "7   good          9  parents    12   27   single   no_rec      fixed   \n",
       "8   good          0    owner    60   32  married   no_rec  freelance   \n",
       "9    bad          0  parents    48   41  married   no_rec    partime   \n",
       "\n",
       "   Expenses  Income  ...         timeR         ageR       expensesR  \\\n",
       "0        73     129  ...  time (48,99]  age (25,30]     exp (60,80]   \n",
       "1        48     131  ...  time (48,99]  age (50,99]     exp (40,50]   \n",
       "2        90     200  ...  time (24,36]  age (40,50]  exp (80,1e+04]   \n",
       "3        63     182  ...  time (48,99]   age (0,25]     exp (60,80]   \n",
       "4        46     107  ...  time (24,36]  age (25,30]     exp (40,50]   \n",
       "5        75     214  ...  time (48,99]  age (30,40]     exp (60,80]   \n",
       "6        75     125  ...  time (48,99]  age (40,50]     exp (60,80]   \n",
       "7        35      80  ...   time (0,12]  age (25,30]      exp (0,40]   \n",
       "8        90     107  ...  time (48,99]  age (30,40]  exp (80,1e+04]   \n",
       "9        90      80  ...  time (36,48]  age (40,50]  exp (80,1e+04]   \n",
       "\n",
       "           incomeR              assetsR        debtR               amountR  \\\n",
       "0    inc (110,140]         asset (-1,0]  debt (-1,0]          am (600,900]   \n",
       "1    inc (110,140]         asset (-1,0]  debt (-1,0]      am (900,1.1e+03]   \n",
       "2  inc (190,1e+04]      asset (0,3e+03]  debt (-1,0]    am (1.4e+03,1e+05]   \n",
       "3    inc (140,190]      asset (0,3e+03]  debt (-1,0]          am (600,900]   \n",
       "4     inc (80,110]         asset (-1,0]  debt (-1,0]            am (0,600]   \n",
       "5  inc (190,1e+04]  asset (3e+03,5e+03]  debt (-1,0]          am (600,900]   \n",
       "6    inc (110,140]  asset (8e+03,1e+06]  debt (-1,0]    am (1.4e+03,1e+05]   \n",
       "7       inc (0,80]         asset (-1,0]  debt (-1,0]            am (0,600]   \n",
       "8     inc (80,110]  asset (8e+03,1e+06]  debt (-1,0]  am (1.1e+03,1.4e+03]   \n",
       "9       inc (0,80]         asset (-1,0]  debt (-1,0]  am (1.1e+03,1.4e+03]   \n",
       "\n",
       "                   priceR        finratR     savingsR  \n",
       "0          priz (0,1e+03]  finr (90,100]    sav (4,6]  \n",
       "1  priz (1.5e+03,1.8e+03]   finr (50,70]    sav (4,6]  \n",
       "2    priz (1.8e+03,1e+05]   finr (50,70]    sav (0,2]  \n",
       "3  priz (1.3e+03,1.5e+03]   finr (50,70]   sav (6,99]  \n",
       "4          priz (0,1e+03]    finr (0,50]   sav (6,99]  \n",
       "5  priz (1.5e+03,1.8e+03]    finr (0,50]   sav (6,99]  \n",
       "6  priz (1.5e+03,1.8e+03]   finr (80,90]    sav (0,2]  \n",
       "7    priz (1e+03,1.3e+03]    finr (0,50]    sav (2,4]  \n",
       "8    priz (1.8e+03,1e+05]   finr (50,70]    sav (0,2]  \n",
       "9  priz (1.3e+03,1.5e+03]   finr (80,90]  sav (-99,0]  \n",
       "\n",
       "[10 rows x 27 columns]"
      ]
     },
     "execution_count": 4,
     "metadata": {},
     "output_type": "execute_result"
    }
   ],
   "source": [
    "credit_data.head(10)"
   ]
  },
  {
   "cell_type": "code",
   "execution_count": 7,
   "id": "2cebdf69",
   "metadata": {},
   "outputs": [
    {
     "data": {
      "text/html": [
       "<div>\n",
       "<style scoped>\n",
       "    .dataframe tbody tr th:only-of-type {\n",
       "        vertical-align: middle;\n",
       "    }\n",
       "\n",
       "    .dataframe tbody tr th {\n",
       "        vertical-align: top;\n",
       "    }\n",
       "\n",
       "    .dataframe thead th {\n",
       "        text-align: right;\n",
       "    }\n",
       "</style>\n",
       "<table border=\"1\" class=\"dataframe\">\n",
       "  <thead>\n",
       "    <tr style=\"text-align: right;\">\n",
       "      <th></th>\n",
       "      <th>Income</th>\n",
       "      <th>Assets</th>\n",
       "      <th>Debt</th>\n",
       "      <th>Amount</th>\n",
       "      <th>Price</th>\n",
       "      <th>Finrat</th>\n",
       "      <th>Savings</th>\n",
       "      <th>seniorityR</th>\n",
       "      <th>timeR</th>\n",
       "      <th>ageR</th>\n",
       "      <th>expensesR</th>\n",
       "      <th>incomeR</th>\n",
       "      <th>assetsR</th>\n",
       "      <th>debtR</th>\n",
       "      <th>amountR</th>\n",
       "      <th>priceR</th>\n",
       "      <th>finratR</th>\n",
       "      <th>savingsR</th>\n",
       "    </tr>\n",
       "  </thead>\n",
       "  <tbody>\n",
       "    <tr>\n",
       "      <th>0</th>\n",
       "      <td>129</td>\n",
       "      <td>0</td>\n",
       "      <td>0</td>\n",
       "      <td>800</td>\n",
       "      <td>846</td>\n",
       "      <td>94.562648</td>\n",
       "      <td>4.200000</td>\n",
       "      <td>sen (8,14]</td>\n",
       "      <td>time (48,99]</td>\n",
       "      <td>age (25,30]</td>\n",
       "      <td>exp (60,80]</td>\n",
       "      <td>inc (110,140]</td>\n",
       "      <td>asset (-1,0]</td>\n",
       "      <td>debt (-1,0]</td>\n",
       "      <td>am (600,900]</td>\n",
       "      <td>priz (0,1e+03]</td>\n",
       "      <td>finr (90,100]</td>\n",
       "      <td>sav (4,6]</td>\n",
       "    </tr>\n",
       "    <tr>\n",
       "      <th>1</th>\n",
       "      <td>131</td>\n",
       "      <td>0</td>\n",
       "      <td>0</td>\n",
       "      <td>1000</td>\n",
       "      <td>1658</td>\n",
       "      <td>60.313631</td>\n",
       "      <td>4.980000</td>\n",
       "      <td>sen (14,99]</td>\n",
       "      <td>time (48,99]</td>\n",
       "      <td>age (50,99]</td>\n",
       "      <td>exp (40,50]</td>\n",
       "      <td>inc (110,140]</td>\n",
       "      <td>asset (-1,0]</td>\n",
       "      <td>debt (-1,0]</td>\n",
       "      <td>am (900,1.1e+03]</td>\n",
       "      <td>priz (1.5e+03,1.8e+03]</td>\n",
       "      <td>finr (50,70]</td>\n",
       "      <td>sav (4,6]</td>\n",
       "    </tr>\n",
       "    <tr>\n",
       "      <th>2</th>\n",
       "      <td>200</td>\n",
       "      <td>3000</td>\n",
       "      <td>0</td>\n",
       "      <td>2000</td>\n",
       "      <td>2985</td>\n",
       "      <td>67.001675</td>\n",
       "      <td>1.980000</td>\n",
       "      <td>sen (8,14]</td>\n",
       "      <td>time (24,36]</td>\n",
       "      <td>age (40,50]</td>\n",
       "      <td>exp (80,1e+04]</td>\n",
       "      <td>inc (190,1e+04]</td>\n",
       "      <td>asset (0,3e+03]</td>\n",
       "      <td>debt (-1,0]</td>\n",
       "      <td>am (1.4e+03,1e+05]</td>\n",
       "      <td>priz (1.8e+03,1e+05]</td>\n",
       "      <td>finr (50,70]</td>\n",
       "      <td>sav (0,2]</td>\n",
       "    </tr>\n",
       "    <tr>\n",
       "      <th>3</th>\n",
       "      <td>182</td>\n",
       "      <td>2500</td>\n",
       "      <td>0</td>\n",
       "      <td>900</td>\n",
       "      <td>1325</td>\n",
       "      <td>67.924528</td>\n",
       "      <td>7.933333</td>\n",
       "      <td>sen (-1,1]</td>\n",
       "      <td>time (48,99]</td>\n",
       "      <td>age (0,25]</td>\n",
       "      <td>exp (60,80]</td>\n",
       "      <td>inc (140,190]</td>\n",
       "      <td>asset (0,3e+03]</td>\n",
       "      <td>debt (-1,0]</td>\n",
       "      <td>am (600,900]</td>\n",
       "      <td>priz (1.3e+03,1.5e+03]</td>\n",
       "      <td>finr (50,70]</td>\n",
       "      <td>sav (6,99]</td>\n",
       "    </tr>\n",
       "    <tr>\n",
       "      <th>4</th>\n",
       "      <td>107</td>\n",
       "      <td>0</td>\n",
       "      <td>0</td>\n",
       "      <td>310</td>\n",
       "      <td>910</td>\n",
       "      <td>34.065934</td>\n",
       "      <td>7.083871</td>\n",
       "      <td>sen (-1,1]</td>\n",
       "      <td>time (24,36]</td>\n",
       "      <td>age (25,30]</td>\n",
       "      <td>exp (40,50]</td>\n",
       "      <td>inc (80,110]</td>\n",
       "      <td>asset (-1,0]</td>\n",
       "      <td>debt (-1,0]</td>\n",
       "      <td>am (0,600]</td>\n",
       "      <td>priz (0,1e+03]</td>\n",
       "      <td>finr (0,50]</td>\n",
       "      <td>sav (6,99]</td>\n",
       "    </tr>\n",
       "    <tr>\n",
       "      <th>5</th>\n",
       "      <td>214</td>\n",
       "      <td>3500</td>\n",
       "      <td>0</td>\n",
       "      <td>650</td>\n",
       "      <td>1645</td>\n",
       "      <td>39.513678</td>\n",
       "      <td>12.830769</td>\n",
       "      <td>sen (-1,1]</td>\n",
       "      <td>time (48,99]</td>\n",
       "      <td>age (30,40]</td>\n",
       "      <td>exp (60,80]</td>\n",
       "      <td>inc (190,1e+04]</td>\n",
       "      <td>asset (3e+03,5e+03]</td>\n",
       "      <td>debt (-1,0]</td>\n",
       "      <td>am (600,900]</td>\n",
       "      <td>priz (1.5e+03,1.8e+03]</td>\n",
       "      <td>finr (0,50]</td>\n",
       "      <td>sav (6,99]</td>\n",
       "    </tr>\n",
       "    <tr>\n",
       "      <th>6</th>\n",
       "      <td>125</td>\n",
       "      <td>10000</td>\n",
       "      <td>0</td>\n",
       "      <td>1600</td>\n",
       "      <td>1800</td>\n",
       "      <td>88.888889</td>\n",
       "      <td>1.875000</td>\n",
       "      <td>sen (14,99]</td>\n",
       "      <td>time (48,99]</td>\n",
       "      <td>age (40,50]</td>\n",
       "      <td>exp (60,80]</td>\n",
       "      <td>inc (110,140]</td>\n",
       "      <td>asset (8e+03,1e+06]</td>\n",
       "      <td>debt (-1,0]</td>\n",
       "      <td>am (1.4e+03,1e+05]</td>\n",
       "      <td>priz (1.5e+03,1.8e+03]</td>\n",
       "      <td>finr (80,90]</td>\n",
       "      <td>sav (0,2]</td>\n",
       "    </tr>\n",
       "    <tr>\n",
       "      <th>7</th>\n",
       "      <td>80</td>\n",
       "      <td>0</td>\n",
       "      <td>0</td>\n",
       "      <td>200</td>\n",
       "      <td>1093</td>\n",
       "      <td>18.298262</td>\n",
       "      <td>2.700000</td>\n",
       "      <td>sen (8,14]</td>\n",
       "      <td>time (0,12]</td>\n",
       "      <td>age (25,30]</td>\n",
       "      <td>exp (0,40]</td>\n",
       "      <td>inc (0,80]</td>\n",
       "      <td>asset (-1,0]</td>\n",
       "      <td>debt (-1,0]</td>\n",
       "      <td>am (0,600]</td>\n",
       "      <td>priz (1e+03,1.3e+03]</td>\n",
       "      <td>finr (0,50]</td>\n",
       "      <td>sav (2,4]</td>\n",
       "    </tr>\n",
       "    <tr>\n",
       "      <th>8</th>\n",
       "      <td>107</td>\n",
       "      <td>15000</td>\n",
       "      <td>0</td>\n",
       "      <td>1200</td>\n",
       "      <td>1957</td>\n",
       "      <td>61.318344</td>\n",
       "      <td>0.850000</td>\n",
       "      <td>sen (-1,1]</td>\n",
       "      <td>time (48,99]</td>\n",
       "      <td>age (30,40]</td>\n",
       "      <td>exp (80,1e+04]</td>\n",
       "      <td>inc (80,110]</td>\n",
       "      <td>asset (8e+03,1e+06]</td>\n",
       "      <td>debt (-1,0]</td>\n",
       "      <td>am (1.1e+03,1.4e+03]</td>\n",
       "      <td>priz (1.8e+03,1e+05]</td>\n",
       "      <td>finr (50,70]</td>\n",
       "      <td>sav (0,2]</td>\n",
       "    </tr>\n",
       "    <tr>\n",
       "      <th>9</th>\n",
       "      <td>80</td>\n",
       "      <td>0</td>\n",
       "      <td>0</td>\n",
       "      <td>1200</td>\n",
       "      <td>1468</td>\n",
       "      <td>81.743869</td>\n",
       "      <td>-0.400000</td>\n",
       "      <td>sen (-1,1]</td>\n",
       "      <td>time (36,48]</td>\n",
       "      <td>age (40,50]</td>\n",
       "      <td>exp (80,1e+04]</td>\n",
       "      <td>inc (0,80]</td>\n",
       "      <td>asset (-1,0]</td>\n",
       "      <td>debt (-1,0]</td>\n",
       "      <td>am (1.1e+03,1.4e+03]</td>\n",
       "      <td>priz (1.3e+03,1.5e+03]</td>\n",
       "      <td>finr (80,90]</td>\n",
       "      <td>sav (-99,0]</td>\n",
       "    </tr>\n",
       "  </tbody>\n",
       "</table>\n",
       "</div>"
      ],
      "text/plain": [
       "   Income  Assets  Debt  Amount  Price     Finrat    Savings   seniorityR  \\\n",
       "0     129       0     0     800    846  94.562648   4.200000   sen (8,14]   \n",
       "1     131       0     0    1000   1658  60.313631   4.980000  sen (14,99]   \n",
       "2     200    3000     0    2000   2985  67.001675   1.980000   sen (8,14]   \n",
       "3     182    2500     0     900   1325  67.924528   7.933333   sen (-1,1]   \n",
       "4     107       0     0     310    910  34.065934   7.083871   sen (-1,1]   \n",
       "5     214    3500     0     650   1645  39.513678  12.830769   sen (-1,1]   \n",
       "6     125   10000     0    1600   1800  88.888889   1.875000  sen (14,99]   \n",
       "7      80       0     0     200   1093  18.298262   2.700000   sen (8,14]   \n",
       "8     107   15000     0    1200   1957  61.318344   0.850000   sen (-1,1]   \n",
       "9      80       0     0    1200   1468  81.743869  -0.400000   sen (-1,1]   \n",
       "\n",
       "          timeR         ageR       expensesR          incomeR  \\\n",
       "0  time (48,99]  age (25,30]     exp (60,80]    inc (110,140]   \n",
       "1  time (48,99]  age (50,99]     exp (40,50]    inc (110,140]   \n",
       "2  time (24,36]  age (40,50]  exp (80,1e+04]  inc (190,1e+04]   \n",
       "3  time (48,99]   age (0,25]     exp (60,80]    inc (140,190]   \n",
       "4  time (24,36]  age (25,30]     exp (40,50]     inc (80,110]   \n",
       "5  time (48,99]  age (30,40]     exp (60,80]  inc (190,1e+04]   \n",
       "6  time (48,99]  age (40,50]     exp (60,80]    inc (110,140]   \n",
       "7   time (0,12]  age (25,30]      exp (0,40]       inc (0,80]   \n",
       "8  time (48,99]  age (30,40]  exp (80,1e+04]     inc (80,110]   \n",
       "9  time (36,48]  age (40,50]  exp (80,1e+04]       inc (0,80]   \n",
       "\n",
       "               assetsR        debtR               amountR  \\\n",
       "0         asset (-1,0]  debt (-1,0]          am (600,900]   \n",
       "1         asset (-1,0]  debt (-1,0]      am (900,1.1e+03]   \n",
       "2      asset (0,3e+03]  debt (-1,0]    am (1.4e+03,1e+05]   \n",
       "3      asset (0,3e+03]  debt (-1,0]          am (600,900]   \n",
       "4         asset (-1,0]  debt (-1,0]            am (0,600]   \n",
       "5  asset (3e+03,5e+03]  debt (-1,0]          am (600,900]   \n",
       "6  asset (8e+03,1e+06]  debt (-1,0]    am (1.4e+03,1e+05]   \n",
       "7         asset (-1,0]  debt (-1,0]            am (0,600]   \n",
       "8  asset (8e+03,1e+06]  debt (-1,0]  am (1.1e+03,1.4e+03]   \n",
       "9         asset (-1,0]  debt (-1,0]  am (1.1e+03,1.4e+03]   \n",
       "\n",
       "                   priceR        finratR     savingsR  \n",
       "0          priz (0,1e+03]  finr (90,100]    sav (4,6]  \n",
       "1  priz (1.5e+03,1.8e+03]   finr (50,70]    sav (4,6]  \n",
       "2    priz (1.8e+03,1e+05]   finr (50,70]    sav (0,2]  \n",
       "3  priz (1.3e+03,1.5e+03]   finr (50,70]   sav (6,99]  \n",
       "4          priz (0,1e+03]    finr (0,50]   sav (6,99]  \n",
       "5  priz (1.5e+03,1.8e+03]    finr (0,50]   sav (6,99]  \n",
       "6  priz (1.5e+03,1.8e+03]   finr (80,90]    sav (0,2]  \n",
       "7    priz (1e+03,1.3e+03]    finr (0,50]    sav (2,4]  \n",
       "8    priz (1.8e+03,1e+05]   finr (50,70]    sav (0,2]  \n",
       "9  priz (1.3e+03,1.5e+03]   finr (80,90]  sav (-99,0]  "
      ]
     },
     "execution_count": 7,
     "metadata": {},
     "output_type": "execute_result"
    }
   ],
   "source": [
    "credit_data.iloc[0:10,9:27]"
   ]
  },
  {
   "cell_type": "code",
   "execution_count": 8,
   "id": "a6b4461a",
   "metadata": {},
   "outputs": [
    {
     "data": {
      "text/plain": [
       "(4446, 27)"
      ]
     },
     "execution_count": 8,
     "metadata": {},
     "output_type": "execute_result"
    }
   ],
   "source": [
    "credit_data.shape"
   ]
  },
  {
   "cell_type": "code",
   "execution_count": 9,
   "id": "7719927a",
   "metadata": {},
   "outputs": [
    {
     "name": "stdout",
     "output_type": "stream",
     "text": [
      "<class 'pandas.core.frame.DataFrame'>\n",
      "RangeIndex: 4446 entries, 0 to 4445\n",
      "Data columns (total 27 columns):\n",
      " #   Column      Non-Null Count  Dtype  \n",
      "---  ------      --------------  -----  \n",
      " 0   Status      4446 non-null   object \n",
      " 1   Seniority   4446 non-null   int64  \n",
      " 2   Home        4446 non-null   object \n",
      " 3   Time        4446 non-null   int64  \n",
      " 4   Age         4446 non-null   int64  \n",
      " 5   Marital     4446 non-null   object \n",
      " 6   Records     4446 non-null   object \n",
      " 7   Job         4446 non-null   object \n",
      " 8   Expenses    4446 non-null   int64  \n",
      " 9   Income      4446 non-null   int64  \n",
      " 10  Assets      4446 non-null   int64  \n",
      " 11  Debt        4446 non-null   int64  \n",
      " 12  Amount      4446 non-null   int64  \n",
      " 13  Price       4446 non-null   int64  \n",
      " 14  Finrat      4446 non-null   float64\n",
      " 15  Savings     4446 non-null   float64\n",
      " 16  seniorityR  4446 non-null   object \n",
      " 17  timeR       4446 non-null   object \n",
      " 18  ageR        4446 non-null   object \n",
      " 19  expensesR   4446 non-null   object \n",
      " 20  incomeR     4446 non-null   object \n",
      " 21  assetsR     4446 non-null   object \n",
      " 22  debtR       4446 non-null   object \n",
      " 23  amountR     4446 non-null   object \n",
      " 24  priceR      4446 non-null   object \n",
      " 25  finratR     4446 non-null   object \n",
      " 26  savingsR    4446 non-null   object \n",
      "dtypes: float64(2), int64(9), object(16)\n",
      "memory usage: 938.0+ KB\n"
     ]
    }
   ],
   "source": [
    "credit_data.info()"
   ]
  },
  {
   "cell_type": "code",
   "execution_count": 10,
   "id": "9d3f4c2f",
   "metadata": {},
   "outputs": [
    {
     "data": {
      "text/html": [
       "<div>\n",
       "<style scoped>\n",
       "    .dataframe tbody tr th:only-of-type {\n",
       "        vertical-align: middle;\n",
       "    }\n",
       "\n",
       "    .dataframe tbody tr th {\n",
       "        vertical-align: top;\n",
       "    }\n",
       "\n",
       "    .dataframe thead th {\n",
       "        text-align: right;\n",
       "    }\n",
       "</style>\n",
       "<table border=\"1\" class=\"dataframe\">\n",
       "  <thead>\n",
       "    <tr style=\"text-align: right;\">\n",
       "      <th></th>\n",
       "      <th>Seniority</th>\n",
       "      <th>Time</th>\n",
       "      <th>Age</th>\n",
       "      <th>Expenses</th>\n",
       "      <th>Income</th>\n",
       "      <th>Assets</th>\n",
       "      <th>Debt</th>\n",
       "      <th>Amount</th>\n",
       "      <th>Price</th>\n",
       "      <th>Finrat</th>\n",
       "      <th>Savings</th>\n",
       "    </tr>\n",
       "  </thead>\n",
       "  <tbody>\n",
       "    <tr>\n",
       "      <th>count</th>\n",
       "      <td>4446.000000</td>\n",
       "      <td>4446.000000</td>\n",
       "      <td>4446.000000</td>\n",
       "      <td>4446.000000</td>\n",
       "      <td>4446.000000</td>\n",
       "      <td>4446.000000</td>\n",
       "      <td>4446.000000</td>\n",
       "      <td>4446.000000</td>\n",
       "      <td>4446.000000</td>\n",
       "      <td>4446.000000</td>\n",
       "      <td>4446.000000</td>\n",
       "    </tr>\n",
       "    <tr>\n",
       "      <th>mean</th>\n",
       "      <td>7.991453</td>\n",
       "      <td>46.453441</td>\n",
       "      <td>37.084121</td>\n",
       "      <td>55.601439</td>\n",
       "      <td>140.629780</td>\n",
       "      <td>5354.948943</td>\n",
       "      <td>342.257085</td>\n",
       "      <td>1038.763383</td>\n",
       "      <td>1462.480432</td>\n",
       "      <td>72.616409</td>\n",
       "      <td>3.860083</td>\n",
       "    </tr>\n",
       "    <tr>\n",
       "      <th>std</th>\n",
       "      <td>8.176370</td>\n",
       "      <td>14.647979</td>\n",
       "      <td>10.986366</td>\n",
       "      <td>19.520839</td>\n",
       "      <td>80.177896</td>\n",
       "      <td>11534.328183</td>\n",
       "      <td>1244.694549</td>\n",
       "      <td>474.747952</td>\n",
       "      <td>628.555171</td>\n",
       "      <td>20.390595</td>\n",
       "      <td>3.726292</td>\n",
       "    </tr>\n",
       "    <tr>\n",
       "      <th>min</th>\n",
       "      <td>0.000000</td>\n",
       "      <td>6.000000</td>\n",
       "      <td>18.000000</td>\n",
       "      <td>35.000000</td>\n",
       "      <td>1.000000</td>\n",
       "      <td>0.000000</td>\n",
       "      <td>0.000000</td>\n",
       "      <td>100.000000</td>\n",
       "      <td>105.000000</td>\n",
       "      <td>6.702413</td>\n",
       "      <td>-8.160000</td>\n",
       "    </tr>\n",
       "    <tr>\n",
       "      <th>25%</th>\n",
       "      <td>2.000000</td>\n",
       "      <td>36.000000</td>\n",
       "      <td>28.000000</td>\n",
       "      <td>35.000000</td>\n",
       "      <td>90.000000</td>\n",
       "      <td>0.000000</td>\n",
       "      <td>0.000000</td>\n",
       "      <td>700.000000</td>\n",
       "      <td>1116.250000</td>\n",
       "      <td>60.030020</td>\n",
       "      <td>1.615385</td>\n",
       "    </tr>\n",
       "    <tr>\n",
       "      <th>50%</th>\n",
       "      <td>5.000000</td>\n",
       "      <td>48.000000</td>\n",
       "      <td>36.000000</td>\n",
       "      <td>51.000000</td>\n",
       "      <td>124.000000</td>\n",
       "      <td>3000.000000</td>\n",
       "      <td>0.000000</td>\n",
       "      <td>1000.000000</td>\n",
       "      <td>1400.000000</td>\n",
       "      <td>77.096757</td>\n",
       "      <td>3.120000</td>\n",
       "    </tr>\n",
       "    <tr>\n",
       "      <th>75%</th>\n",
       "      <td>12.000000</td>\n",
       "      <td>60.000000</td>\n",
       "      <td>45.000000</td>\n",
       "      <td>72.000000</td>\n",
       "      <td>170.000000</td>\n",
       "      <td>6000.000000</td>\n",
       "      <td>0.000000</td>\n",
       "      <td>1300.000000</td>\n",
       "      <td>1691.500000</td>\n",
       "      <td>88.460263</td>\n",
       "      <td>5.195688</td>\n",
       "    </tr>\n",
       "    <tr>\n",
       "      <th>max</th>\n",
       "      <td>48.000000</td>\n",
       "      <td>72.000000</td>\n",
       "      <td>68.000000</td>\n",
       "      <td>180.000000</td>\n",
       "      <td>959.000000</td>\n",
       "      <td>300000.000000</td>\n",
       "      <td>30000.000000</td>\n",
       "      <td>5000.000000</td>\n",
       "      <td>11140.000000</td>\n",
       "      <td>100.000000</td>\n",
       "      <td>33.250000</td>\n",
       "    </tr>\n",
       "  </tbody>\n",
       "</table>\n",
       "</div>"
      ],
      "text/plain": [
       "         Seniority         Time          Age     Expenses       Income  \\\n",
       "count  4446.000000  4446.000000  4446.000000  4446.000000  4446.000000   \n",
       "mean      7.991453    46.453441    37.084121    55.601439   140.629780   \n",
       "std       8.176370    14.647979    10.986366    19.520839    80.177896   \n",
       "min       0.000000     6.000000    18.000000    35.000000     1.000000   \n",
       "25%       2.000000    36.000000    28.000000    35.000000    90.000000   \n",
       "50%       5.000000    48.000000    36.000000    51.000000   124.000000   \n",
       "75%      12.000000    60.000000    45.000000    72.000000   170.000000   \n",
       "max      48.000000    72.000000    68.000000   180.000000   959.000000   \n",
       "\n",
       "              Assets          Debt       Amount         Price       Finrat  \\\n",
       "count    4446.000000   4446.000000  4446.000000   4446.000000  4446.000000   \n",
       "mean     5354.948943    342.257085  1038.763383   1462.480432    72.616409   \n",
       "std     11534.328183   1244.694549   474.747952    628.555171    20.390595   \n",
       "min         0.000000      0.000000   100.000000    105.000000     6.702413   \n",
       "25%         0.000000      0.000000   700.000000   1116.250000    60.030020   \n",
       "50%      3000.000000      0.000000  1000.000000   1400.000000    77.096757   \n",
       "75%      6000.000000      0.000000  1300.000000   1691.500000    88.460263   \n",
       "max    300000.000000  30000.000000  5000.000000  11140.000000   100.000000   \n",
       "\n",
       "           Savings  \n",
       "count  4446.000000  \n",
       "mean      3.860083  \n",
       "std       3.726292  \n",
       "min      -8.160000  \n",
       "25%       1.615385  \n",
       "50%       3.120000  \n",
       "75%       5.195688  \n",
       "max      33.250000  "
      ]
     },
     "execution_count": 10,
     "metadata": {},
     "output_type": "execute_result"
    }
   ],
   "source": [
    "credit_data.describe()"
   ]
  },
  {
   "cell_type": "code",
   "execution_count": 13,
   "id": "d6b50533",
   "metadata": {},
   "outputs": [
    {
     "data": {
      "text/plain": [
       "2"
      ]
     },
     "execution_count": 13,
     "metadata": {},
     "output_type": "execute_result"
    }
   ],
   "source": [
    "credit_data.duplicated().sum()"
   ]
  },
  {
   "cell_type": "code",
   "execution_count": 17,
   "id": "83209d55",
   "metadata": {},
   "outputs": [],
   "source": [
    "credit_data.drop_duplicates(inplace=True)"
   ]
  },
  {
   "cell_type": "code",
   "execution_count": 18,
   "id": "39f0ab25",
   "metadata": {},
   "outputs": [
    {
     "data": {
      "text/plain": [
       "0"
      ]
     },
     "execution_count": 18,
     "metadata": {},
     "output_type": "execute_result"
    }
   ],
   "source": [
    "credit_data.duplicated().sum()"
   ]
  },
  {
   "cell_type": "code",
   "execution_count": 19,
   "id": "038c83f3",
   "metadata": {},
   "outputs": [
    {
     "data": {
      "text/plain": [
       "0"
      ]
     },
     "execution_count": 19,
     "metadata": {},
     "output_type": "execute_result"
    }
   ],
   "source": [
    "#Checking for outliers\n",
    "from scipy import stats\n",
    "z = np.abs(stats.zscore(credit_data['Age']))\n",
    "outliers = list(set(np.where(z > 3)[0]))\n",
    "len(np.where(z > 3)[0])\n"
   ]
  },
  {
   "cell_type": "code",
   "execution_count": 20,
   "id": "5140a79d",
   "metadata": {},
   "outputs": [
    {
     "data": {
      "text/plain": [
       "Status        0\n",
       "Seniority     0\n",
       "Home          0\n",
       "Time          0\n",
       "Age           0\n",
       "Marital       0\n",
       "Records       0\n",
       "Job           0\n",
       "Expenses      0\n",
       "Income        0\n",
       "Assets        0\n",
       "Debt          0\n",
       "Amount        0\n",
       "Price         0\n",
       "Finrat        0\n",
       "Savings       0\n",
       "seniorityR    0\n",
       "timeR         0\n",
       "ageR          0\n",
       "expensesR     0\n",
       "incomeR       0\n",
       "assetsR       0\n",
       "debtR         0\n",
       "amountR       0\n",
       "priceR        0\n",
       "finratR       0\n",
       "savingsR      0\n",
       "dtype: int64"
      ]
     },
     "execution_count": 20,
     "metadata": {},
     "output_type": "execute_result"
    }
   ],
   "source": [
    "credit_data.isnull().sum()"
   ]
  },
  {
   "cell_type": "code",
   "execution_count": 22,
   "id": "fb90ae83",
   "metadata": {},
   "outputs": [],
   "source": [
    "credit_data.drop(['seniorityR','timeR','ageR','expensesR','incomeR','assetsR','debtR','amountR','priceR','finratR','savingsR'],axis = 1, inplace= True)"
   ]
  },
  {
   "cell_type": "code",
   "execution_count": 24,
   "id": "e5dedeec",
   "metadata": {},
   "outputs": [
    {
     "data": {
      "text/plain": [
       "(4444, 16)"
      ]
     },
     "execution_count": 24,
     "metadata": {},
     "output_type": "execute_result"
    }
   ],
   "source": [
    "credit_data.shape"
   ]
  },
  {
   "cell_type": "code",
   "execution_count": 26,
   "id": "9895427c",
   "metadata": {},
   "outputs": [
    {
     "data": {
      "text/plain": [
       "good    3196\n",
       "bad     1248\n",
       "Name: Status, dtype: int64"
      ]
     },
     "execution_count": 26,
     "metadata": {},
     "output_type": "execute_result"
    }
   ],
   "source": [
    "credit_data['Status'].value_counts()"
   ]
  },
  {
   "cell_type": "code",
   "execution_count": 27,
   "id": "a315e901",
   "metadata": {},
   "outputs": [
    {
     "data": {
      "text/plain": [
       "owner      2104\n",
       "rent        973\n",
       "parents     782\n",
       "other       319\n",
       "priv        246\n",
       "ignore       20\n",
       "Name: Home, dtype: int64"
      ]
     },
     "execution_count": 27,
     "metadata": {},
     "output_type": "execute_result"
    }
   ],
   "source": [
    "credit_data['Home'].value_counts()"
   ]
  },
  {
   "cell_type": "code",
   "execution_count": 28,
   "id": "5c01a811",
   "metadata": {},
   "outputs": [
    {
     "data": {
      "text/plain": [
       "fixed        2803\n",
       "freelance    1019\n",
       "partime       451\n",
       "others        171\n",
       "Name: Job, dtype: int64"
      ]
     },
     "execution_count": 28,
     "metadata": {},
     "output_type": "execute_result"
    }
   ],
   "source": [
    "credit_data['Job'].value_counts()"
   ]
  },
  {
   "cell_type": "markdown",
   "id": "a26bc9bf",
   "metadata": {},
   "source": [
    "## Univariant Analysis"
   ]
  },
  {
   "cell_type": "code",
   "execution_count": 29,
   "id": "a37fc2cc",
   "metadata": {},
   "outputs": [
    {
     "data": {
      "text/plain": [
       "array([[<AxesSubplot:title={'center':'Income'}>]], dtype=object)"
      ]
     },
     "execution_count": 29,
     "metadata": {},
     "output_type": "execute_result"
    },
    {
     "data": {
      "image/png": "[encoded data removed]",
      "text/plain": [
       "<Figure size 432x288 with 1 Axes>"
      ]
     },
     "metadata": {
      "needs_background": "light"
     },
     "output_type": "display_data"
    }
   ],
   "source": [
    "credit_data.hist(column='Income')"
   ]
  },
  {
   "cell_type": "markdown",
   "id": "33277a5b",
   "metadata": {},
   "source": [
    "There are more individuals earning below 200"
   ]
  },
  {
   "cell_type": "code",
   "execution_count": 31,
   "id": "087c4875",
   "metadata": {},
   "outputs": [
    {
     "data": {
      "image/png": "[encoded data removed]",
      "text/plain": [
       "<Figure size 432x288 with 1 Axes>"
      ]
     },
     "metadata": {
      "needs_background": "light"
     },
     "output_type": "display_data"
    }
   ],
   "source": [
    "g=sb.countplot(x = 'Status', data= credit_data, palette = 'hls')\n"
   ]
  },
  {
   "cell_type": "markdown",
   "id": "5427b4a7",
   "metadata": {},
   "source": [
    "There are more individuals with good credit score"
   ]
  },
  {
   "cell_type": "code",
   "execution_count": 33,
   "id": "490bfdf5",
   "metadata": {},
   "outputs": [
    {
     "data": {
      "text/plain": [
       "<AxesSubplot:xlabel='Debt', ylabel='Density'>"
      ]
     },
     "execution_count": 33,
     "metadata": {},
     "output_type": "execute_result"
    },
    {
     "data": {
      "image/png": "[encoded data removed]",
      "text/plain": [
       "<Figure size 432x288 with 1 Axes>"
      ]
     },
     "metadata": {
      "needs_background": "light"
     },
     "output_type": "display_data"
    }
   ],
   "source": [
    "sb.kdeplot(credit_data['Debt'])"
   ]
  },
  {
   "cell_type": "markdown",
   "id": "db87b23d",
   "metadata": {},
   "source": [
    "There are more persons with zero debts"
   ]
  },
  {
   "cell_type": "markdown",
   "id": "6901761f",
   "metadata": {},
   "source": [
    "## Bivariate Analysis"
   ]
  },
  {
   "cell_type": "code",
   "execution_count": 35,
   "id": "66780430",
   "metadata": {},
   "outputs": [
    {
     "data": {
      "text/html": [
       "<div>\n",
       "<style scoped>\n",
       "    .dataframe tbody tr th:only-of-type {\n",
       "        vertical-align: middle;\n",
       "    }\n",
       "\n",
       "    .dataframe tbody tr th {\n",
       "        vertical-align: top;\n",
       "    }\n",
       "\n",
       "    .dataframe thead th {\n",
       "        text-align: right;\n",
       "    }\n",
       "</style>\n",
       "<table border=\"1\" class=\"dataframe\">\n",
       "  <thead>\n",
       "    <tr style=\"text-align: right;\">\n",
       "      <th></th>\n",
       "      <th>Amount</th>\n",
       "      <th>Income</th>\n",
       "    </tr>\n",
       "  </thead>\n",
       "  <tbody>\n",
       "    <tr>\n",
       "      <th>Amount</th>\n",
       "      <td>1.000000</td>\n",
       "      <td>0.190663</td>\n",
       "    </tr>\n",
       "    <tr>\n",
       "      <th>Income</th>\n",
       "      <td>0.190663</td>\n",
       "      <td>1.000000</td>\n",
       "    </tr>\n",
       "  </tbody>\n",
       "</table>\n",
       "</div>"
      ],
      "text/plain": [
       "          Amount    Income\n",
       "Amount  1.000000  0.190663\n",
       "Income  0.190663  1.000000"
      ]
     },
     "execution_count": 35,
     "metadata": {},
     "output_type": "execute_result"
    }
   ],
   "source": [
    "credit_data[['Amount','Income']].corr()"
   ]
  },
  {
   "cell_type": "code",
   "execution_count": 37,
   "id": "bdb776e8",
   "metadata": {},
   "outputs": [
    {
     "data": {
      "text/plain": [
       "<AxesSubplot:>"
      ]
     },
     "execution_count": 37,
     "metadata": {},
     "output_type": "execute_result"
    },
    {
     "data": {
      "image/png": "[encoded data removed]",
      "text/plain": [
       "<Figure size 432x288 with 2 Axes>"
      ]
     },
     "metadata": {
      "needs_background": "light"
     },
     "output_type": "display_data"
    }
   ],
   "source": [
    "sb.heatmap(credit_data[['Amount','Income']].corr(), annot = True)"
   ]
  },
  {
   "cell_type": "markdown",
   "id": "1eafde1d",
   "metadata": {},
   "source": [
    "The Two variable have a weak positive relationship"
   ]
  },
  {
   "cell_type": "code",
   "execution_count": null,
   "id": "d263e6aa",
   "metadata": {},
   "outputs": [],
   "source": [
    "from sklearn.linear_model import LinearRegression"
   ]
  },
  {
   "cell_type": "code",
   "execution_count": 44,
   "id": "84251516",
   "metadata": {},
   "outputs": [],
   "source": [
    "X =credit_data[['Income']].values\n",
    "Y =credit_data[['Amount']].values"
   ]
  },
  {
   "cell_type": "code",
   "execution_count": 45,
   "id": "b87b6191",
   "metadata": {},
   "outputs": [],
   "source": [
    "model = LinearRegression().fit(X,Y)"
   ]
  },
  {
   "cell_type": "code",
   "execution_count": 47,
   "id": "bcf9fa54",
   "metadata": {},
   "outputs": [
    {
     "data": {
      "text/plain": [
       "array([[1.12895559]])"
      ]
     },
     "execution_count": 47,
     "metadata": {},
     "output_type": "execute_result"
    }
   ],
   "source": [
    "model.coef_"
   ]
  },
  {
   "cell_type": "code",
   "execution_count": 48,
   "id": "ad2e6df4",
   "metadata": {},
   "outputs": [
    {
     "data": {
      "text/plain": [
       "array([880.11663096])"
      ]
     },
     "execution_count": 48,
     "metadata": {},
     "output_type": "execute_result"
    }
   ],
   "source": [
    "model.intercept_"
   ]
  },
  {
   "cell_type": "code",
   "execution_count": null,
   "id": "935289d3",
   "metadata": {},
   "outputs": [],
   "source": [
    "## the mathematical expression of the linear regression will be \n",
    "Amount = 1.128*income + 880.1 "
   ]
  },
  {
   "cell_type": "markdown",
   "id": "b266ed02",
   "metadata": {},
   "source": [
    "## Multivariate Analysis"
   ]
  },
  {
   "cell_type": "code",
   "execution_count": 52,
   "id": "b32493db",
   "metadata": {},
   "outputs": [],
   "source": [
    "#transforming the categorical feature to numerical features\n",
    "from sklearn.preprocessing import LabelEncoder\n",
    "encoder = LabelEncoder()\n",
    "\n",
    "credit_data['Job'] = encoder.fit_transform(credit_data['Job'])\n"
   ]
  },
  {
   "cell_type": "code",
   "execution_count": 56,
   "id": "00ef93cd",
   "metadata": {},
   "outputs": [],
   "source": [
    "# Extract the features(independent variable)nd labels (dependent variable)\n",
    "\n",
    "x = credit_data.loc[:, ['Job','Assets','Debt','Income','Expenses']].values\n"
   ]
  },
  {
   "cell_type": "code",
   "execution_count": 57,
   "id": "fd6433de",
   "metadata": {
    "scrolled": true
   },
   "outputs": [
    {
     "data": {
      "text/plain": [
       "array([[ 0.40506746, -0.46407386, -0.27507024, -0.14530561,  0.89176346],\n",
       "       [-0.63546421, -0.46407386, -0.27507024, -0.12036111, -0.38938328],\n",
       "       [ 0.40506746, -0.20397356, -0.27507024,  0.74022393,  1.76294324],\n",
       "       ...,\n",
       "       [ 2.48613078, -0.16062351, -0.27507024, -0.63172324,  0.22556716],\n",
       "       [ 0.40506746, -0.46407386, -0.27507024, -0.00811089, -0.33813741],\n",
       "       [ 0.40506746, -0.11727346,  0.52826302, -0.00811089,  0.22556716]])"
      ]
     },
     "execution_count": 57,
     "metadata": {},
     "output_type": "execute_result"
    }
   ],
   "source": [
    "# Step 1: Standardizing the features\n",
    "from sklearn.preprocessing import StandardScaler\n",
    "sc = StandardScaler()\n",
    "x_scaled = sc.fit_transform(x)\n",
    "x_scaled"
   ]
  },
  {
   "cell_type": "code",
   "execution_count": 58,
   "id": "9174f326",
   "metadata": {},
   "outputs": [],
   "source": [
    "from sklearn.decomposition import PCA\n",
    "pc = PCA(n_components=5)"
   ]
  },
  {
   "cell_type": "code",
   "execution_count": 60,
   "id": "7ae85fb0",
   "metadata": {},
   "outputs": [
    {
     "data": {
      "text/plain": [
       "array([[-0.13193824, -0.54425104, -0.84092751, -0.44399213,  0.23142736],\n",
       "       [-0.46283751, -0.47271612,  0.60939255,  0.13354354, -0.1845991 ],\n",
       "       [ 0.90969556, -1.01027715, -1.38379397, -0.39891865,  0.12256042],\n",
       "       ...,\n",
       "       [-0.92679566,  1.15911162, -2.06540225, -0.51307089, -0.02542544],\n",
       "       [-0.55028801,  0.05140323, -0.23394866, -0.04237115, -0.45554807],\n",
       "       [ 0.18197943,  0.28140053, -0.23188969, -0.58455218, -0.00800052]])"
      ]
     },
     "execution_count": 60,
     "metadata": {},
     "output_type": "execute_result"
    }
   ],
   "source": [
    "p = pc.fit_transform(x_scaled)\n",
    "p"
   ]
  },
  {
   "cell_type": "code",
   "execution_count": 61,
   "id": "703cca16",
   "metadata": {},
   "outputs": [
    {
     "data": {
      "text/html": [
       "<div>\n",
       "<style scoped>\n",
       "    .dataframe tbody tr th:only-of-type {\n",
       "        vertical-align: middle;\n",
       "    }\n",
       "\n",
       "    .dataframe tbody tr th {\n",
       "        vertical-align: top;\n",
       "    }\n",
       "\n",
       "    .dataframe thead th {\n",
       "        text-align: right;\n",
       "    }\n",
       "</style>\n",
       "<table border=\"1\" class=\"dataframe\">\n",
       "  <thead>\n",
       "    <tr style=\"text-align: right;\">\n",
       "      <th></th>\n",
       "      <th>PC1</th>\n",
       "      <th>PC2</th>\n",
       "      <th>PC3</th>\n",
       "      <th>PC4</th>\n",
       "      <th>PC5</th>\n",
       "      <th>Status</th>\n",
       "    </tr>\n",
       "  </thead>\n",
       "  <tbody>\n",
       "    <tr>\n",
       "      <th>0</th>\n",
       "      <td>-0.131938</td>\n",
       "      <td>-0.544251</td>\n",
       "      <td>-0.840928</td>\n",
       "      <td>-0.443992</td>\n",
       "      <td>0.231427</td>\n",
       "      <td>good</td>\n",
       "    </tr>\n",
       "    <tr>\n",
       "      <th>1</th>\n",
       "      <td>-0.462838</td>\n",
       "      <td>-0.472716</td>\n",
       "      <td>0.609393</td>\n",
       "      <td>0.133544</td>\n",
       "      <td>-0.184599</td>\n",
       "      <td>good</td>\n",
       "    </tr>\n",
       "    <tr>\n",
       "      <th>2</th>\n",
       "      <td>0.909696</td>\n",
       "      <td>-1.010277</td>\n",
       "      <td>-1.383794</td>\n",
       "      <td>-0.398919</td>\n",
       "      <td>0.122560</td>\n",
       "      <td>bad</td>\n",
       "    </tr>\n",
       "    <tr>\n",
       "      <th>3</th>\n",
       "      <td>0.358357</td>\n",
       "      <td>-0.865050</td>\n",
       "      <td>0.146650</td>\n",
       "      <td>0.139534</td>\n",
       "      <td>-0.181059</td>\n",
       "      <td>good</td>\n",
       "    </tr>\n",
       "    <tr>\n",
       "      <th>4</th>\n",
       "      <td>-0.694094</td>\n",
       "      <td>-0.369615</td>\n",
       "      <td>0.694293</td>\n",
       "      <td>0.110598</td>\n",
       "      <td>-0.016488</td>\n",
       "      <td>good</td>\n",
       "    </tr>\n",
       "  </tbody>\n",
       "</table>\n",
       "</div>"
      ],
      "text/plain": [
       "        PC1       PC2       PC3       PC4       PC5 Status\n",
       "0 -0.131938 -0.544251 -0.840928 -0.443992  0.231427   good\n",
       "1 -0.462838 -0.472716  0.609393  0.133544 -0.184599   good\n",
       "2  0.909696 -1.010277 -1.383794 -0.398919  0.122560    bad\n",
       "3  0.358357 -0.865050  0.146650  0.139534 -0.181059   good\n",
       "4 -0.694094 -0.369615  0.694293  0.110598 -0.016488   good"
      ]
     },
     "execution_count": 61,
     "metadata": {},
     "output_type": "execute_result"
    }
   ],
   "source": [
    "credit_data1 = pd.DataFrame(data=p, columns= ['PC1','PC2','PC3','PC4','PC5'])\n",
    "credit_data_Df = pd.concat([credit_data1, credit_data[['Status']]], axis = 1)\n",
    "credit_data_Df.head()"
   ]
  },
  {
   "cell_type": "code",
   "execution_count": 64,
   "id": "41622fc1",
   "metadata": {},
   "outputs": [
    {
     "data": {
      "image/png": "[encoded data removed]",
      "text/plain": [
       "<Figure size 576x576 with 1 Axes>"
      ]
     },
     "metadata": {
      "needs_background": "light"
     },
     "output_type": "display_data"
    }
   ],
   "source": [
    "fig = plt.figure(figsize = (8,8))\n",
    "ax = fig.add_subplot(1,1,1) \n",
    "ax.set_xlabel('PC1', fontsize = 15)\n",
    "ax.set_ylabel('PC2', fontsize = 15)\n",
    "ax.set_title('2 component PCA', fontsize = 20)\n",
    "targets = ['good', 'bad']\n",
    "colors = ['r', 'g', 'b']\n",
    "for target, color in zip(targets,colors):\n",
    "    indicesToKeep = credit_data_Df['Status'] == target\n",
    "    ax.scatter(credit_data_Df.loc[indicesToKeep, 'PC1']\n",
    "               , credit_data_Df.loc[indicesToKeep, 'PC2']\n",
    "               , c = color\n",
    "               , s = 50)\n",
    "ax.legend(targets)\n",
    "ax.grid()"
   ]
  },
  {
   "cell_type": "code",
   "execution_count": null,
   "id": "14fb0631",
   "metadata": {},
   "outputs": [],
   "source": []
  }
 ],
 "metadata": {
  "kernelspec": {
   "display_name": "Python 3 (ipykernel)",
   "language": "python",
   "name": "python3"
  },
  "language_info": {
   "codemirror_mode": {
    "name": "ipython",
    "version": 3
   },
   "file_extension": ".py",
   "mimetype": "text/x-python",
   "name": "python",
   "nbconvert_exporter": "python",
   "pygments_lexer": "ipython3",
   "version": "3.9.12"
  }
 },
 "nbformat": 4,
 "nbformat_minor": 5
}
